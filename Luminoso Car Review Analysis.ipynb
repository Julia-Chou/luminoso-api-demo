{
 "metadata": {
  "name": ""
 },
 "nbformat": 3,
 "nbformat_minor": 0,
 "worksheets": [
  {
   "cells": [
    {
     "cell_type": "code",
     "collapsed": false,
     "input": [
      "import os\n",
      "import glob\n",
      "import logging\n",
      "from pyquery import PyQuery\n",
      "from luminoso_api import LuminosoClient"
     ],
     "language": "python",
     "metadata": {},
     "outputs": [],
     "prompt_number": 61
    },
    {
     "cell_type": "code",
     "collapsed": false,
     "input": [
      "client = LuminosoClient.connect('/projects/{0}'.format(os.environ['LUMINOSO_ACCOUNT']), username=os.environ['LUMINOSO_USERNAME'], password=os.environ['LUMINOSO_PASSWORD'])"
     ],
     "language": "python",
     "metadata": {},
     "outputs": [],
     "prompt_number": 62
    },
    {
     "cell_type": "code",
     "collapsed": false,
     "input": [],
     "language": "python",
     "metadata": {},
     "outputs": []
    },
    {
     "cell_type": "code",
     "collapsed": false,
     "input": [
      "car_projects = client.get(name='cars')\n",
      "if not project_info:\n",
      "    cilent.post(name='cars')\n",
      "    car_projects = client.get(name='cars')\n",
      "car_project = car_projects[0]"
     ],
     "language": "python",
     "metadata": {},
     "outputs": [],
     "prompt_number": 27
    },
    {
     "cell_type": "code",
     "collapsed": false,
     "input": [
      "car_project_client = client.change_path(car_project['project_id'])"
     ],
     "language": "python",
     "metadata": {},
     "outputs": [],
     "prompt_number": 63
    },
    {
     "cell_type": "code",
     "collapsed": false,
     "input": [
      "car_review_filenames = glob.glob('data/cars/2009/*')"
     ],
     "language": "python",
     "metadata": {},
     "outputs": [],
     "prompt_number": 37
    },
    {
     "cell_type": "code",
     "collapsed": false,
     "input": [
      "car_review_filenames[:100]"
     ],
     "language": "python",
     "metadata": {},
     "outputs": [
      {
       "metadata": {},
       "output_type": "pyout",
       "prompt_number": 38,
       "text": [
        "['data/cars/2009/2009_acura_mdx',\n",
        " 'data/cars/2009/2009_acura_rdx',\n",
        " 'data/cars/2009/2009_acura_rl',\n",
        " 'data/cars/2009/2009_acura_tl',\n",
        " 'data/cars/2009/2009_acura_tsx',\n",
        " 'data/cars/2009/2009_audi_a4',\n",
        " 'data/cars/2009/2009_audi_a5',\n",
        " 'data/cars/2009/2009_audi_q5',\n",
        " 'data/cars/2009/2009_bmw_1_series',\n",
        " 'data/cars/2009/2009_bmw_3_series',\n",
        " 'data/cars/2009/2009_bmw_5_series',\n",
        " 'data/cars/2009/2009_bmw_x5',\n",
        " 'data/cars/2009/2009_bmw_x6',\n",
        " 'data/cars/2009/2009_buick_enclave',\n",
        " 'data/cars/2009/2009_cadillac_cts',\n",
        " 'data/cars/2009/2009_cadillac_cts-v',\n",
        " 'data/cars/2009/2009_chevrolet_aveo',\n",
        " 'data/cars/2009/2009_chevrolet_cobalt',\n",
        " 'data/cars/2009/2009_chevrolet_corvette',\n",
        " 'data/cars/2009/2009_chevrolet_hhr',\n",
        " 'data/cars/2009/2009_chevrolet_impala',\n",
        " 'data/cars/2009/2009_chevrolet_malibu',\n",
        " 'data/cars/2009/2009_chevrolet_silverado_1500',\n",
        " 'data/cars/2009/2009_chevrolet_tahoe',\n",
        " 'data/cars/2009/2009_chevrolet_traverse',\n",
        " 'data/cars/2009/2009_chrysler_aspen',\n",
        " 'data/cars/2009/2009_chrysler_sebring',\n",
        " 'data/cars/2009/2009_chrysler_town_and_country',\n",
        " 'data/cars/2009/2009_dodge_avenger',\n",
        " 'data/cars/2009/2009_dodge_caliber',\n",
        " 'data/cars/2009/2009_dodge_challenger',\n",
        " 'data/cars/2009/2009_dodge_charger',\n",
        " 'data/cars/2009/2009_dodge_grand_caravan',\n",
        " 'data/cars/2009/2009_dodge_journey',\n",
        " 'data/cars/2009/2009_dodge_ram_pickup_1500',\n",
        " 'data/cars/2009/2009_ford_edge',\n",
        " 'data/cars/2009/2009_ford_escape',\n",
        " 'data/cars/2009/2009_ford_escape_hybrid',\n",
        " 'data/cars/2009/2009_ford_f-150',\n",
        " 'data/cars/2009/2009_ford_flex',\n",
        " 'data/cars/2009/2009_ford_focus',\n",
        " 'data/cars/2009/2009_ford_fusion',\n",
        " 'data/cars/2009/2009_ford_mustang',\n",
        " 'data/cars/2009/2009_ford_ranger',\n",
        " 'data/cars/2009/2009_gmc_acadia',\n",
        " 'data/cars/2009/2009_gmc_sierra_1500',\n",
        " 'data/cars/2009/2009_honda_accord',\n",
        " 'data/cars/2009/2009_honda_civic',\n",
        " 'data/cars/2009/2009_honda_cr-v',\n",
        " 'data/cars/2009/2009_honda_fit',\n",
        " 'data/cars/2009/2009_honda_odyssey',\n",
        " 'data/cars/2009/2009_honda_pilot',\n",
        " 'data/cars/2009/2009_honda_ridgeline',\n",
        " 'data/cars/2009/2009_hyundai_accent',\n",
        " 'data/cars/2009/2009_hyundai_azera',\n",
        " 'data/cars/2009/2009_hyundai_elantra',\n",
        " 'data/cars/2009/2009_hyundai_elantra_touring',\n",
        " 'data/cars/2009/2009_hyundai_genesis',\n",
        " 'data/cars/2009/2009_hyundai_santa_fe',\n",
        " 'data/cars/2009/2009_hyundai_sonata',\n",
        " 'data/cars/2009/2009_infiniti_fx35',\n",
        " 'data/cars/2009/2009_infiniti_g37',\n",
        " 'data/cars/2009/2009_infiniti_m35',\n",
        " 'data/cars/2009/2009_jeep_compass',\n",
        " 'data/cars/2009/2009_jeep_grand_cherokee',\n",
        " 'data/cars/2009/2009_jeep_liberty',\n",
        " 'data/cars/2009/2009_jeep_patriot',\n",
        " 'data/cars/2009/2009_jeep_wrangler',\n",
        " 'data/cars/2009/2009_kia_borrego',\n",
        " 'data/cars/2009/2009_kia_optima',\n",
        " 'data/cars/2009/2009_kia_spectra',\n",
        " 'data/cars/2009/2009_kia_sportage',\n",
        " 'data/cars/2009/2009_lexus_es_350',\n",
        " 'data/cars/2009/2009_lexus_is_250',\n",
        " 'data/cars/2009/2009_lexus_rx_350',\n",
        " 'data/cars/2009/2009_mazda_cx-7',\n",
        " 'data/cars/2009/2009_mazda_cx-9',\n",
        " 'data/cars/2009/2009_mazda_mazda3',\n",
        " 'data/cars/2009/2009_mazda_mazda5',\n",
        " 'data/cars/2009/2009_mazda_mazda6',\n",
        " 'data/cars/2009/2009_mazda_mazdaspeed_mazda3',\n",
        " 'data/cars/2009/2009_mazda_mx-5_miata',\n",
        " 'data/cars/2009/2009_mazda_rx-8',\n",
        " 'data/cars/2009/2009_mercedes-benz_c-class',\n",
        " 'data/cars/2009/2009_mercedes-benz_e-class',\n",
        " 'data/cars/2009/2009_mercedes-benz_m-class',\n",
        " 'data/cars/2009/2009_mini_cooper',\n",
        " 'data/cars/2009/2009_mini_cooper_clubman',\n",
        " 'data/cars/2009/2009_mitsubishi_galant',\n",
        " 'data/cars/2009/2009_mitsubishi_lancer',\n",
        " 'data/cars/2009/2009_mitsubishi_outlander',\n",
        " 'data/cars/2009/2009_nissan_370z',\n",
        " 'data/cars/2009/2009_nissan_altima',\n",
        " 'data/cars/2009/2009_nissan_altima_hybrid',\n",
        " 'data/cars/2009/2009_nissan_cube',\n",
        " 'data/cars/2009/2009_nissan_frontier',\n",
        " 'data/cars/2009/2009_nissan_gt-r',\n",
        " 'data/cars/2009/2009_nissan_maxima',\n",
        " 'data/cars/2009/2009_nissan_murano',\n",
        " 'data/cars/2009/2009_nissan_rogue']"
       ]
      }
     ],
     "prompt_number": 38
    },
    {
     "cell_type": "code",
     "collapsed": false,
     "input": [
      "s = open('data/cars/2009/2009_acura_mdx').read()"
     ],
     "language": "python",
     "metadata": {},
     "outputs": [],
     "prompt_number": 8
    },
    {
     "cell_type": "code",
     "collapsed": false,
     "input": [
      "for f in car_review_filenames:\n",
      "    car = f.split('/')[-1].replace('2009_', '')\n",
      "    make = car.split('_')[0]\n",
      "    doc = PyQuery(open(f).read())\n",
      "    reviews = [dict(title=\"{0}_rev{1}\".format(car, i), text=el.text, subsets=[car, make]) for i, el in enumerate(doc('TEXT'))]\n",
      "    logging.info(\"Posting {0} reviews for the {1}\".format(len(reviews), car))\n",
      "    car_project_client.upload('/docs', reviews)"
     ],
     "language": "python",
     "metadata": {},
     "outputs": [],
     "prompt_number": 54
    },
    {
     "cell_type": "code",
     "collapsed": false,
     "input": [
      "job_num = car_project_client.post('docs/recalculate')"
     ],
     "language": "python",
     "metadata": {},
     "outputs": [],
     "prompt_number": 56
    },
    {
     "cell_type": "code",
     "collapsed": false,
     "input": [
      "job_result = car_project_client.wait_for(job_num)"
     ],
     "language": "python",
     "metadata": {},
     "outputs": [],
     "prompt_number": 58
    },
    {
     "cell_type": "code",
     "collapsed": false,
     "input": [
      "car_project_client.post('topics', name='comfortable', text='comfortable')"
     ],
     "language": "python",
     "metadata": {},
     "outputs": [
      {
       "metadata": {},
       "output_type": "pyout",
       "prompt_number": 64,
       "text": [
        "{u'_id': u'36c8301d-6bbe-43ae-b4bf-0b9676c2473f',\n",
        " u'color': u'#808080',\n",
        " u'name': u'comfortable',\n",
        " u'text': u'comfortable',\n",
        " u'vector': u'W3fb_-Bx8-AAjdTKMMP__U98gpkKDr-62gB1r__P_-b_2HIJCCgwBCXEmMAD25LgRONCz62hT_6o3WqDI66P1AnFA3G9XX91TBgqC5a_lB4DUE7_Ffv8sSEwjARbAMSFYu65lz8H9EtDSB-Vj5uwFN2CqwBAN9UjBoYDAVGxM3v8_lt_khAX39oaAE7CZW3WKCRt-8LEZY-80AdJ9fE_8KACiCy__-f-dT8fm6-p_jZ7vd7jbADH-k_4xo-Q5ChfDGZBrgA6eDgZB6J-4VDZVHgYAqV8cO-2k_AICg8BuC-PH7Yi-t2G0wDYsAW2-Gq-6hGszBLX9vIBok983AJ79R-CYC8_e-NhHTm9JV9_m_ldD_ICT8DqADQp5M98bgFbgD-W5k96IL_4IDQr6ml99TBjPB4f7qd_94-AzBtS-YnCxVFXX-00Cx8AKHBzk-T_E4z'}"
       ]
      }
     ],
     "prompt_number": 64
    },
    {
     "cell_type": "code",
     "collapsed": false,
     "input": [
      "car_project_client.get('topics')"
     ],
     "language": "python",
     "metadata": {},
     "outputs": [
      {
       "metadata": {},
       "output_type": "pyout",
       "prompt_number": 65,
       "text": [
        "[{u'_id': u'36c8301d-6bbe-43ae-b4bf-0b9676c2473f',\n",
        "  u'color': u'#808080',\n",
        "  u'name': u'comfortable',\n",
        "  u'text': u'comfortable',\n",
        "  u'vector': u'W3fb_-Bx8-AAjdTKMMP__U98gpkKDr-62gB1r__P_-b_2HIJCCgwBCXEmMAD25LgRONCz62hT_6o3WqDI66P1AnFA3G9XX91TBgqC5a_lB4DUE7_Ffv8sSEwjARbAMSFYu65lz8H9EtDSB-Vj5uwFN2CqwBAN9UjBoYDAVGxM3v8_lt_khAX39oaAE7CZW3WKCRt-8LEZY-80AdJ9fE_8KACiCy__-f-dT8fm6-p_jZ7vd7jbADH-k_4xo-Q5ChfDGZBrgA6eDgZB6J-4VDZVHgYAqV8cO-2k_AICg8BuC-PH7Yi-t2G0wDYsAW2-Gq-6hGszBLX9vIBok983AJ79R-CYC8_e-NhHTm9JV9_m_ldD_ICT8DqADQp5M98bgFbgD-W5k96IL_4IDQr6ml99TBjPB4f7qd_94-AzBtS-YnCxVFXX-00Cx8AKHBzk-T_E4z'}]"
       ]
      }
     ],
     "prompt_number": 65
    },
    {
     "cell_type": "code",
     "collapsed": false,
     "input": [
      "car_project_client.get('topics/id/36c8301d-6bbe-43ae-b4bf-0b9676c2473f')"
     ],
     "language": "python",
     "metadata": {},
     "outputs": [
      {
       "metadata": {},
       "output_type": "pyout",
       "prompt_number": 66,
       "text": [
        "{u'_id': u'36c8301d-6bbe-43ae-b4bf-0b9676c2473f',\n",
        " u'color': u'#808080',\n",
        " u'name': u'comfortable',\n",
        " u'text': u'comfortable',\n",
        " u'vector': u'W3fb_-Bx8-AAjdTKMMP__U98gpkKDr-62gB1r__P_-b_2HIJCCgwBCXEmMAD25LgRONCz62hT_6o3WqDI66P1AnFA3G9XX91TBgqC5a_lB4DUE7_Ffv8sSEwjARbAMSFYu65lz8H9EtDSB-Vj5uwFN2CqwBAN9UjBoYDAVGxM3v8_lt_khAX39oaAE7CZW3WKCRt-8LEZY-80AdJ9fE_8KACiCy__-f-dT8fm6-p_jZ7vd7jbADH-k_4xo-Q5ChfDGZBrgA6eDgZB6J-4VDZVHgYAqV8cO-2k_AICg8BuC-PH7Yi-t2G0wDYsAW2-Gq-6hGszBLX9vIBok983AJ79R-CYC8_e-NhHTm9JV9_m_ldD_ICT8DqADQp5M98bgFbgD-W5k96IL_4IDQr6ml99TBjPB4f7qd_94-AzBtS-YnCxVFXX-00Cx8AKHBzk-T_E4z'}"
       ]
      }
     ],
     "prompt_number": 66
    },
    {
     "cell_type": "code",
     "collapsed": false,
     "input": [
      "car_project_client.get('terms/search',topic='36c8301d-6bbe-43ae-b4bf-0b9676c2473f')"
     ],
     "language": "python",
     "metadata": {},
     "outputs": [
      {
       "metadata": {},
       "output_type": "pyout",
       "prompt_number": 68,
       "text": [
        "{u'search_results': [[{u'distinct_doc_count': 1435.0,\n",
        "    u'score': 0.0593982164726469,\n",
        "    u'term': u'comfortable|en',\n",
        "    u'text': u'comfortable',\n",
        "    u'vector': u'W3fm_-Bx9PAAjdSnMMB__U98ipkkDr662mB1p__P_-b_2HII5CgtBCWEmHAD25LoRN4Cz32hf_6o3W0DI26P8AnEA3F9Xb91WBgpC5X_lB4DeE75Ffp8sWEwdARbAMSFYo65rz8V9ExDR--Vl5u3FNvCqsBAM9UnBoXDARGxE3wG_lt_kiAX29odAE7CZT3WVCRq-8NEZT-81AdJ9fH_8KACiCy8_-f-dU8fq6-v_ja7vi7jgADH-lB4xw-Q7ChcDGVBreA6dDgVB6H-4XDZRHgPAqU8cS-2l_AKCg5BuA-PK7Yn-t3G0oDYnAW2-Gs-6iGsrBLV9vLBoi986AJ69SBCX_8_i-NjHTe9JZ9_p_leD_ECT5Dp8DQl5NF8bkFbaD-R5lF6IS_4IDQn6ms99VBjNB4d7qi_94-A1BtQ-YpCxRFXQ-02Cx4AKHBzi-UBE4t'},\n",
        "   0.9997092620224084],\n",
        "  [{u'distinct_doc_count': 350.0,\n",
        "    u'score': 0.05245894826286614,\n",
        "    u'term': u'roomy|en',\n",
        "    u'text': u'roomy',\n",
        "    u'vector': u'X-l-__c4h2AALQRkFT2__Z8Y61M5D0--sQ_EGAAi-Ru_AIEW2Bij_AUDcrAAe780DIBC9v-NM_-e-Iu_flCTQ83Y_KV_RxBIT_c3Bsg_7R8mtCwZCM686kBw5_HzBel_GI_44-Ky8yZCAG_z8_OuFT4AF7_eR_6rB_5DOzBVL8K1--zAZX9zA-eJ_hZBMI_UCAMN_V0_2LAIMBUV7o-_8V-uVB01_VA_AJ_OQ8W1_tD_b-4xr_9R9iw_Jq-kdAI_ChKBM9_sf-iCB5oAEXCp9C5VB3y-MfBno-FVCuKB8WADbAE2_-5DoICBZATC_qmAFPBR1Ci_ARIAgX_vjARk9coAjdAJ9_5zCfU-ip_aU_kpBJWBdf_eYCOy9KY_JhEBWC7H-WK-Ix-QIAtG78FAUtB6-BDw_y9__-_EqC8O-hUBfhAXnAGDB23B1SBUv_f7-0A'},\n",
        "   0.8063650367533748],\n",
        "  [{u'distinct_doc_count': 75.0,\n",
        "    u'score': 0.013087033398227277,\n",
        "    u'term': u'comfy|en',\n",
        "    u'text': u'comfy',\n",
        "    u'vector': u'W7mJ_-zzQqAAPQFWGTu__f_aLsAv_4U7BgDSLAAEA_fCIoC-J_9lA_mE-eAB86tXJfgCcO4Yp_8e5UZINc6pIDND_26AANAGZD559XS-bs9ZkG6VKkc_g8Bxv-Yk_8jBjr41e0O5B3vEFY-cq7-XGtZDlL_wa-Kn9GZCcyFhT3sPAiQ9dKFgRE1WAHACe33ZR9sF_xyDRN-wODnQ8Bs_9RCUmC5aABT8rN72B9up_yu-p-4NL_-x_se8fb8_gC-NBwjCOpBI2FVUJVF83U_9eJjtCnL5qd-6d_1OFqvBIv-2U_b67wT-srFvn_E4D1BA1JEzpCo4-N1HBz9VE9tU18j-Y64Ve4VlBKDENm40cDcDKzz_R0H1VHrV8Id8UjFU_52g2bhzfcHRmDz3_6T9fQIz-FECzmB_14_Ri-XiDCA-OcBcM-_j_yT-eW_Cv59zLI1'},\n",
        "   0.7644908830398133],\n",
        "  [{u'distinct_doc_count': 3.0,\n",
        "    u'score': 0.0010228280175771482,\n",
        "    u'term': u'extraordinarily|en',\n",
        "    u'text': u'extraordinarily',\n",
        "    u'vector': u'W-I4__c4OYAAPZGrImY_-23rC1ZdBaF6i_Bm_AAXAOBFZUH-4DSu84HJNKABV8HGGsV8IH8hS__X9MUFP4Bvj7rS_hl-_1BToA_jESkEGN732FOMEJ09zPI6CGio9F7_pw7aY5Sm-2jClf_C48-eCqEGcz6wX_ElBZl_8vE3j4d-AZZ_5k-M84vD-iY8bS7-TDMr75ZDIkCnk_9x-Ol_8k_IQ_QkCaD78X93UBYLACS7ca55U_4u2wg-m09geAr2AbsBmBEd2E2qAsX88QCYYF6fCr-70-BU-98YA4dE3w8vV5axDnIOMvCr0-oOA_iALjFcDFeC58oFEaDi7DfJ8qsFW5F_h8lwLUX3Re_sz8NvBXLGMxDVUHXEwcKCTNK6FEJXB0V9Xh2GaGF24qbAtyKw98mGC6z_-6AEtFJTHRSCLE_007fKIjsCovBHE6mVE3z'},\n",
        "   0.7064283587352664],\n",
        "  [{u'distinct_doc_count': 1863.0,\n",
        "    u'score': 0.0553718907134852,\n",
        "    u'term': u'seat|en',\n",
        "    u'text': u'seats',\n",
        "    u'vector': u'W4V__99qTBAARFNXMuN_-J7nQh8ZAdU74QCpqAAp_ZECXk9TsAqm-94Jv1ACi_frMLO-4j2N8_9L3bXN59014GDNGWj-SE25pAQQDdRCVT_jh_PaHWtCb5CjW8d1AvQJ5X6kS1TlBMb-A_AD14ZBAcsCVFDr47SG5eNB9SG077_2_T77TtHfj8ZjAcu99W5Cz9GnDyOGFzBTz8zCCnwACQBZH_yq_gt-HM4C094b_yR9ZRDnQAHuF1e7-eBBxA_LAtADCqCJSGscDVLA5g-6BG54DJM9vh988BVX_tHA6ZAlg-a2_HtFzqDHOBDGH5o8iOB4s-2q9rECUI_gpAVY7g5CsM8oU_O6GC6Cem8EC_RjEvuDrnA6EEXE8Pz_3WCc89L5-SK9zT_ieB6E_H1DIWBzaAe85OJ_3q8WiAqS-wg-BdDra9RG-7r--aD5l_UFCVj'},\n",
        "   0.7040736537005654],\n",
        "  [{u'distinct_doc_count': 113.0,\n",
        "    u'score': 0.021284291677225918,\n",
        "    u'term': u'spacious|en',\n",
        "    u'text': u'spacious',\n",
        "    u'vector': u'W9ly_-wu6LAAWbITMRT_-a2oPjPlEdc9XQ8kuABm7KbAMwB3IBwX_usGpXAAb3z2EW0Hvr8PB_8m7w__IxIBA3B39tg8sg7yo8i1DF0C2O71CDq8H9m6sEA5h_nA_no596_a7_mw3pkCwUBW--JdK5w-EL_WX_1OD2XFIMAMj7-5_koAgO-kc966_hU-to9ihADhD6m7uRCAJBcE66i_4i8IfExUAfX9vHFWR6sh_nCBqi32I__V8xE9eoB_iCBACayC188nD7cUEH8DZvFJo-cRD_-9M5Bn59HA_BBFUACb779WBCBHVHAFS-WdAIhCULDIXHpeBOoBfQ8FgC7HCn-DvL9iPBN2Fkb7wKDwkBGdBqGAYy-VA_5K3qO_fJILFARj987-tI_E0BrF6EkCcZFcPBRbBDPADABzJDiO6vvFlJ9BJABhDFCCGhDmTD7S_0Q'},\n",
        "   0.6884980242495343],\n",
        "  [{u'distinct_doc_count': 294.0,\n",
        "    u'score': 0.02005825500318229,\n",
        "    u'term': u'extremely|en',\n",
        "    u'text': u'extremely',\n",
        "    u'vector': u'W90n__f57xAAOZNIOJL_9uEw0AOwDZZ7nAB-S__pBr8C7gK0nCGT7fl-4bADA2kpP-u7Jh35c_613Z56rLAXUCLB6qH_1V7398sVIPABs711nFsyEBbCR6_mE8Vd6TQFxy_uWwvB6al_rY-3d5rEBg4BSg-Nr_vGDQ5D6wFSQ6ke62xBV7A5f7f48rg7Vw1WFEEwC0E_D5ARf-RS_FQ_5A69qB_EDAk9KSB5L9OR_ye8v28JKAAk9fT6NA-T6-sACwJCYeBnWGMh-W7ASAC1fF32BS38tH7ph5ks-GdFEg9AI8AC7JQBqf_J7F3F-YBFBSAAECq3_Xm_yL2p7BFN-9FC6_Amn_AcDOi1gbA6j-nmDxT-MgD6S-O21f32jjBepESv6nd-JE_Q89u252X3P058d7QUHOMAMAEMkEOD3ce-yKEYzD3VJyB-GnEQV8QyCis'},\n",
        "   0.6843737472902428],\n",
        "  [{u'distinct_doc_count': 35.0,\n",
        "    u'score': 0.007299342026905061,\n",
        "    u'term': u'supportive|en',\n",
        "    u'text': u'supportive',\n",
        "    u'vector': u'V2lT_-Gs8CAATUQDNcS_-O97Jp0nBds63yFFp__sB8r_rV-crCAS9HUExoAFu8nadw6_g1w3R_30wJeOUewMmIKGEuf8nP5hnCuxAtV_h56OuIoVTNeDB_Fq22WdAQ6J2M1lJoykAhi-737fC0fPB8qG3EF_T2D20YVC1EUZMy2L_w05DqP4jD2aFma9VtscO_DP-LXVc53sCGc7GHz_2P7E1B9sSaz0kw0gn27a_PRC6ayhKAKEIThyoutsHf6CDs4qpY_TrdG2C7eBmuEVDKXV__e9z78T-C4w_Bo7yW_zXxaS6GVD2GLeeBJVIsR42OOU3-My-_lNMr_tzDECxUL9fav9vzeyHo6GK4zkRFX_PS5CiwJwgLqg7E36j9E4T4LLx6RzcWMXgGDF-NM-PTORXI_gnc1_weD5GB-NGzG4c_H0e2w8EadAXr7xx9oab19'},\n",
        "   0.6716657635182435],\n",
        "  [{u'distinct_doc_count': 93.0,\n",
        "    u'score': 0.015400620087021888,\n",
        "    u'term': u'surprisingly|en',\n",
        "    u'text': u'surprisingly',\n",
        "    u'vector': u'X74y__o9E2AAHTQ4Hav_-wC_AAW4Ak1-pe_qWAAJAHeDNxC1hAOi_q9AVYAAl8lWCuYBNQ-r6_-Q_Jn900EHn9IA8hP_9pA88BO4BSR_7-_QmFBcApo-AZBKbA0f9Vx_b49pr6Hb_v5_LLCFJ-4CDIvBsE_zOBOoC2WEApBzV8pLAGV_aE_u884Z9cq94j9hhAs29b2_o7ArUCAf9oK_689q__utBuS-P_Ang_Wo_9C_L_6kU_9O_EJ-UW-HV-hiAb6Awm_wnBc8-wz-ejBx8D3kCE3_hD9QT-HFB5BBBg94T_gvCwiCUPB1s_48-iYApZ93MCcm-va_BA-4q_Vg-3z-OYCDbCUIDEG9kL95X9fVCEBAVTADD_pJ8kq_c5BbVB3AATu-ON-OvA_p9x3_JN_tEE1N-i-_-2-ND-2C_P0-qOBJr-QuBhs85Q9ceEKSCHU'},\n",
        "   0.6279516360181088],\n",
        "  [{u'distinct_doc_count': 2.0,\n",
        "    u'score': 0.0005169215331461592,\n",
        "    u'term': u'non-leather|en',\n",
        "    u'text': u'non-leather',\n",
        "    u'vector': u'V7Ww_-qusZAALTjjJUX_-m7ss5Hc5Qs4bPHEa__vD0iLo9IWu_UxH_XOTdAD35rPUx17hty0o_7G2PoKTbzOwI6RHVE2lSybU-J8Cf5DwG-aAK3WXoVH4PHRCwScGHiL-p4ddnLv-1BA4x3aGxd28xYNJHIH445hz_aCmRKdr1n69mT00PMCBIu96MoE0-uDe12zA6fYd4-6s_vrDkS_9S9vbGMyGTyvxmuNx61b_a52lh4BtAPhKRRowSwNBK6DFtsBAO3EaPG9JYyN3K6mqZ56D_25ScB9AFqW-3CBZYD5v2o34z9Ro8IoP_jAHvV-FFVUM8QAAn3UAR_QwAWC074LacqFWxa9IO45_v9MK6QPR_BMS3-FdOLx_Dk9srG-x1TZ5Mbqo5IuLIl76wiGISFENFRXxME_sK60aGGK3kzGK3CnsuQd8LcA7VFodAiDcn8'},\n",
        "   0.6273800371910943]],\n",
        " u'search_vector': u'W3fb_-Bx8-AAjdTKMMP__U98gpkKDr-62gB1r__P_-b_2HIJCCgwBCXEmMAD25LgRONCz62hT_6o3WqDI66P1AnFA3G9XX91TBgqC5a_lB4DUE7_Ffv8sSEwjARbAMSFYu65lz8H9EtDSB-Vj5uwFN2CqwBAN9UjBoYDAVGxM3v8_lt_khAX39oaAE7CZW3WKCRt-8LEZY-80AdJ9fE_8KACiCy__-f-dT8fm6-p_jZ7vd7jbADH-k_4xo-Q5ChfDGZBrgA6eDgZB6J-4VDZVHgYAqV8cO-2k_AICg8BuC-PH7Yi-t2G0wDYsAW2-Gq-6hGszBLX9vIBok983AJ79R-CYC8_e-NhHTm9JV9_m_ldD_ICT8DqADQp5M98bgFbgD-W5k96IL_4IDQr6ml99TBjPB4f7qd_94-AzBtS-YnCxVFXX-00Cx8AKHBzk-T_E4z'}"
       ]
      }
     ],
     "prompt_number": 68
    },
    {
     "cell_type": "code",
     "collapsed": false,
     "input": [],
     "language": "python",
     "metadata": {},
     "outputs": []
    }
   ],
   "metadata": {}
  }
 ]
}